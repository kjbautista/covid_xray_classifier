{
 "cells": [
  {
   "cell_type": "code",
   "execution_count": 1,
   "id": "immune-definition",
   "metadata": {},
   "outputs": [
    {
     "name": "stdout",
     "output_type": "stream",
     "text": [
      "Set the runtime to GPU!\n"
     ]
    }
   ],
   "source": [
    "import torch\n",
    "import torch.nn.functional as F\n",
    "from torch.utils.data import DataLoader, Dataset\n",
    "import torch.optim as optim\n",
    "\n",
    "import torchvision\n",
    "from torchvision import transforms\n",
    "\n",
    "import numpy as np\n",
    "import matplotlib.pyplot as plt\n",
    "import pandas as pd\n",
    "import cv2\n",
    "import os\n",
    "os.environ['KMP_DUPLICATE_LIB_OK']='True'\n",
    "from imutils import build_montages\n",
    "from sklearn.model_selection import train_test_split\n",
    "\n",
    "# Set up CUDA\n",
    "device = torch.device(\"cuda\" if torch.cuda.is_available() else \"cpu\")\n",
    "if device == torch.device(\"cpu\"):\n",
    "  print('Set the runtime to GPU!')\n",
    "else:\n",
    "  print(f\"Device: {device}\")\n"
   ]
  },
  {
   "cell_type": "code",
   "execution_count": 2,
   "id": "honey-trance",
   "metadata": {},
   "outputs": [],
   "source": [
    "# Add label to save files\n",
    "save_lab = '-net2'\n",
    "\n",
    "\n",
    "# \n",
    "# <!--bibtex\n",
    "# @article{BS-Net2021,\n",
    "#   title = {BS-Net: learning COVID-19 pneumonia severity on a large Chest X-Ray dataset},\n",
    "#   journal = {Medical Image Analysis},\n",
    "#   pages = {102046},\n",
    "#   year = {2021},\n",
    "#   issn = {1361-8415},\n",
    "#   doi = {https://doi.org/10.1016/j.media.2021.102046},\n",
    "#   url = {https://www.sciencedirect.com/science/article/pii/S136184152100092X},\n",
    "#   author = {Alberto Signoroni and Mattia Savardi and Sergio Benini and Nicola Adami and Riccardo Leonardi and Paolo Gibellini and Filippo Vaccher and Marco Ravanelli and Andrea Borghesi and Roberto Maroldi and Davide Farina},\n",
    "# }\n",
    "# \n",
    "# @article{borghesi2020covid,\n",
    "#   title={COVID-19 outbreak in Italy: experimental chest X-ray scoring system for quantifying and monitoring disease progression},\n",
    "#   author={Borghesi, Andrea and Maroldi, Roberto},\n",
    "#   journal={La radiologia medica},\n",
    "#   volume={125},\n",
    "#   pages={509-513},\n",
    "#   year={2020},\n",
    "#   publisher={Springer}\n",
    "# }\n",
    "# @article{borghesi_et_al_2020, \n",
    "#     title={Chest X-ray severity index as a predictor of in-hospital mortality in coronavirus disease 2019: A study of 302 patients from Italy}, \n",
    "#     volume={96}, \n",
    "#     DOI={10.1016/j.ijid.2020.05.021}, \n",
    "#     journal={International Journal of Infectious Diseases}, \n",
    "#     author={Borghesi, Andrea and Zigliani, Angelo and Golemi, Salvatore and Carapella, Nicola and Maculotti, Patrizia and Farina, Davide and Maroldi, Roberto}, \n",
    "#     year={2020}, \n",
    "#     pages={291–293}} \n",
    "# -->\n",
    "# The dataset (https://www.kaggle.com/datasets/andrewmvd/covid19-xray-severity-scoring) will be loaded from Kaggle. Refer to these papers for extensive discussion of the methods relating to this dataset:\n",
    "# ([Signoroni et al., 2021](#cite-BS-Net2021)) and ([Borghesi & Maroldi, 2020](#cite-borghesi2020covid)).\n",
    "# \n",
    "# The Global Brixia Score labels will be binarized based on a cutoff value of 8 presented in this paper ([Borghesi et al., 2020](#cite-borghesi_et_al_2020)). A binary classification will be done. \n",
    "# \n",
    "# The segmented x-ray images will be used for ease of classification. \n",
    "# \n",
    "\n",
    "\n",
    "\n"
   ]
  },
  {
   "cell_type": "code",
   "execution_count": 3,
   "id": "downtown-purpose",
   "metadata": {},
   "outputs": [
    {
     "name": "stdout",
     "output_type": "stream",
     "text": [
      "Number of images in the training set: 4090\n",
      "Number of images in the validation set: 455\n",
      "Number of images in the test set: 150\n"
     ]
    },
    {
     "data": {
      "image/png": "[encoded data removed]",
      "text/plain": [
       "<Figure size 432x288 with 1 Axes>"
      ]
     },
     "metadata": {
      "needs_background": "light"
     },
     "output_type": "display_data"
    }
   ],
   "source": [
    "##### -- change to path to files !!!!! ######\n",
    "path = \"/Users/jyingli/Documents/562project\" \n",
    "#############################################\n",
    "\n",
    "cols = [\"Filename\",\"BrixiaScoreGlobal\",\"ConsensusTestset\"]\n",
    "cutoff = 8 # optimal cutoff based on literature (add citation)\n",
    "\n",
    "# Get list of file paths to images\n",
    "metadata = pd.read_csv(os.path.join(path,\"metadata.csv\"),sep=\";\",usecols=cols)\n",
    "file_list = metadata.Filename.copy()\n",
    "\n",
    "for i in range(len(file_list)):\n",
    "    tmp = str(os.path.splitext(file_list[i])[0])\n",
    "    file_list[i] = os.path.join(path,\"segmented_png\",(tmp+\".png\"))\n",
    "\n",
    "# Define image labels based on cutoff value\n",
    "labels = (metadata.BrixiaScoreGlobal >= cutoff)\n",
    "  # 0 = low Brixia score (< 8)\n",
    "  # 1 = high Brixia score (>= 8)\n",
    "\n",
    "# Split into training and test sets\n",
    "training_files = file_list[(metadata.ConsensusTestset == 0)]\n",
    "training_labels = labels[metadata.ConsensusTestset == 0]\n",
    "test_files = file_list[metadata.ConsensusTestset == 1]\n",
    "test_labels = labels[metadata.ConsensusTestset == 1]\n",
    "\n",
    "# Distribution of score in training and validatin set are balanced\n",
    "train_files, validation_files, train_labels, validation_labels=train_test_split(training_files,\n",
    "    training_labels, test_size=0.1, random_state=66, \n",
    "    stratify=metadata.BrixiaScoreGlobal[metadata.ConsensusTestset == 0])\n",
    "\n",
    "print(f\"Number of images in the training set: {len(train_files)}\")\n",
    "print(f\"Number of images in the validation set: {len(validation_files)}\")\n",
    "print(f\"Number of images in the test set: {len(test_files)}\")\n",
    "\n",
    "# Display distribution of Global Brixia Scores\n",
    "plt.hist(metadata.BrixiaScoreGlobal,18,color='lightblue')\n",
    "plt.xlabel('Global Brixia Scores')\n",
    "plt.xlim(1,18)\n",
    "plt.ylabel('Number of Patients')\n",
    "plt.title('Distribution')\n",
    "plt.vlines(cutoff,0,400,colors='maroon',linestyles='dashed')\n",
    "plt.text(7.5,40,'Brixia score cutoff',rotation='vertical')\n",
    "plt.savefig(path+'/train_data_distr.png')\n"
   ]
  },
  {
   "cell_type": "code",
   "execution_count": 4,
   "id": "sustainable-avenue",
   "metadata": {},
   "outputs": [],
   "source": [
    "### Data Pre-processing ###\n",
    "transform = transforms.Compose(\n",
    "    [transforms.ToTensor(), # convert to tensor\n",
    "     transforms.Normalize((0.5,), (0.5,))]) # normalize\n",
    "\n",
    "### Define custom dataset ###\n",
    "class XRayDataset(Dataset):\n",
    "    def __init__(self,image_paths,image_labels,transform=False):\n",
    "        self.image_paths = image_paths\n",
    "        self.image_labels = image_labels\n",
    "        self.transform = transform\n",
    "    def __len__(self):\n",
    "        return len(self.image_paths)\n",
    "    def __getitem__(self,idx):\n",
    "        image_filepath = self.image_paths.iloc[idx]\n",
    "        image = cv2.imread(image_filepath)\n",
    "        image = cv2.cvtColor(image,cv2.COLOR_BGR2GRAY)\n",
    "        label = (self.image_labels.iloc[idx]).astype(int)\n",
    "        if self.transform is not None:\n",
    "            image = self.transform(image)\n",
    "        return image, label\n",
    "\n",
    "### Create datasets ###\n",
    "train_set = XRayDataset(train_files,train_labels,transform)\n",
    "validation_set=XRayDataset(validation_files,validation_labels,transform)\n",
    "test_set = XRayDataset(test_files,test_labels,transform)"
   ]
  },
  {
   "cell_type": "code",
   "execution_count": 5,
   "id": "executed-retention",
   "metadata": {},
   "outputs": [
    {
     "data": {
      "text/plain": [
       "True"
      ]
     },
     "execution_count": 5,
     "metadata": {},
     "output_type": "execute_result"
    }
   ],
   "source": [
    "# Display representative images for each Brixia score\n",
    "brixscore = list(range(0,19))\n",
    "brixscore_labels = list(metadata.BrixiaScoreGlobal)\n",
    "ind = [brixscore_labels.index(x) for x in brixscore]\n",
    "\n",
    "# Create a montage of images\n",
    "imgs = []\n",
    "img = []\n",
    "for i in brixscore:\n",
    "    img_path = file_list[i]\n",
    "    img = cv2.imread(img_path)\n",
    "    imgs.append(img)\n",
    "montage = build_montages(imgs,(128,128),(10,2))[0]\n",
    "cv2.imwrite(path+'/montage.png',montage)"
   ]
  },
  {
   "cell_type": "code",
   "execution_count": 6,
   "id": "precious-cabinet",
   "metadata": {},
   "outputs": [],
   "source": [
    "batch_size = 32 # randomly-chosen - ideally, needs a hyperparameter search\n",
    "\n",
    "# Load the datasets using Pytorch DataLoader\n",
    "trainloader = torch.utils.data.DataLoader(train_set,batch_size=batch_size,shuffle=True,num_workers=0)\n",
    "validationloader = torch.utils.data.DataLoader(validation_set,batch_size=batch_size,shuffle=True,num_workers=0)\n",
    "testloader = torch.utils.data.DataLoader(test_set,batch_size=batch_size,shuffle=True,num_workers=0)\n",
    "\n",
    "image_size = 512 # pixel dimensions of image\n",
    "\n",
    "\n",
    "\n",
    "\n",
    "\n",
    "\n"
   ]
  },
  {
   "cell_type": "code",
   "execution_count": 7,
   "id": "blocked-newfoundland",
   "metadata": {},
   "outputs": [],
   "source": [
    "# **Creating the model**\n",
    "\n",
    "# CNN architecture\n",
    "class simple_cnn(torch.nn.Module):\n",
    "  def __init__(self,input_channels,n_filters,filt_size,input_size,n_classes):\n",
    "    super().__init__()\n",
    "\n",
    "    # inputs\n",
    "    self.input_channels = input_channels # number of channels in the input image\n",
    "    self.n_filters = n_filters # list of number of filters in each layer\n",
    "    self.filt_size = filt_size # list of filter sizes\n",
    "    self.input_size = input_size  # size of the input image\n",
    "    self.n_classes = n_classes;\n",
    "\n",
    "    # avg pooling\n",
    "    self.pool = torch.nn.AvgPool2d(2,2) \n",
    "\n",
    "    # conv layers\n",
    "    self.conv0 = torch.nn.Conv2d(in_channels = input_channels, out_channels = n_filters[0], kernel_size = filt_size[0], padding = 0, stride = 2)\n",
    "    self.conv1 = torch.nn.Conv2d(in_channels = n_filters[0], out_channels = n_filters[1], kernel_size = filt_size[1], padding = 0, stride = 2)\n",
    "    self.conv2 = torch.nn.Conv2d(in_channels = n_filters[1],out_channels = n_filters[2], kernel_size = filt_size[2], padding = 0, stride = 2)\n",
    "\n",
    "    # linear layer - applies a linear transformation\n",
    "    self.fc0 = torch.nn.Linear(in_features = 288, out_features = 32)\n",
    "    self.fc1 = torch.nn.Linear(in_features = 32, out_features = 2) \n",
    "    \n",
    "    # Define proportion or neurons to dropout\n",
    "    self.dropout = torch.nn.Dropout(0.4)\n",
    "    self.dropout1 = torch.nn.Dropout(0.2)\n",
    "\n",
    "  def forward(self,x):\n",
    "    x = self.conv0(x)\n",
    "    x=self.dropout1(x)\n",
    "    x = F.relu(x)\n",
    "    x = self.pool(x)\n",
    "    x = self.conv1(x)\n",
    "    x=self.dropout(x)\n",
    "    x = F.relu(x)\n",
    "    x = self.pool(x)\n",
    "    x = self.conv2(x)\n",
    "    x=self.dropout(x)\n",
    "    x = F.relu(x)\n",
    "    x = self.pool(x)\n",
    "    x = torch.flatten(x, 1)\n",
    "    x = self.fc0(x)\n",
    "    x=self.dropout(x)\n",
    "    x = F.relu(x)\n",
    "    x = self.fc1(x)\n",
    "    return x\n",
    "\n"
   ]
  },
  {
   "cell_type": "code",
   "execution_count": 8,
   "id": "nasty-discrimination",
   "metadata": {},
   "outputs": [
    {
     "name": "stdout",
     "output_type": "stream",
     "text": [
      "torch.Size([10, 2])\n"
     ]
    }
   ],
   "source": [
    "# Model\n",
    "input_channels = 1 # grayscale image\n",
    "n_filters = [8,16,32] \n",
    "filt_size = [16,16,16]\n",
    "input_size = image_size\n",
    "n_classes = 2\n",
    "model = simple_cnn(input_channels,n_filters,filt_size,input_size,n_classes).to(device)\n",
    "\n",
    "# Quick check --\n",
    "sample_tensor = torch.randn((10,1,512,512)).to(device)\n",
    "out = model(sample_tensor)\n",
    "print(out.shape)\n",
    "\n"
   ]
  },
  {
   "cell_type": "code",
   "execution_count": 9,
   "id": "conventional-rabbit",
   "metadata": {},
   "outputs": [],
   "source": [
    "# **Model training**\n",
    "\n",
    "### Cost function ###\n",
    "# Cross Entropy Loss\n",
    "loss_fn = torch.nn.CrossEntropyLoss()\n",
    "\n",
    "### Optimizer ###\n",
    "# AdamW Optimizer (with L2 regularization)\n",
    "optimizer = torch.optim.AdamW(model.parameters(), lr=1e-3)\n",
    "\n",
    "\n"
   ]
  },
  {
   "cell_type": "code",
   "execution_count": 10,
   "id": "rotary-pasta",
   "metadata": {},
   "outputs": [
    {
     "name": "stdout",
     "output_type": "stream",
     "text": [
      "[1,    20] loss: 0.682, accuracy: 59.38%\n",
      "[1,    40] loss: 0.658, accuracy: 62.66%\n",
      "[1,    60] loss: 0.649, accuracy: 60.94%\n",
      "[1,    80] loss: 0.609, accuracy: 68.59%\n",
      "[1,   100] loss: 0.633, accuracy: 62.81%\n",
      "[1,   120] loss: 0.642, accuracy: 62.81%\n",
      "Accuracy of the network on the 455 validation images: 66%\n",
      "[2,    20] loss: 0.562, accuracy: 70.94%\n",
      "[2,    40] loss: 0.607, accuracy: 68.28%\n",
      "[2,    60] loss: 0.612, accuracy: 66.09%\n",
      "[2,    80] loss: 0.567, accuracy: 71.56%\n",
      "[2,   100] loss: 0.615, accuracy: 66.72%\n",
      "[2,   120] loss: 0.610, accuracy: 67.81%\n",
      "Accuracy of the network on the 455 validation images: 65%\n",
      "[3,    20] loss: 0.576, accuracy: 67.81%\n",
      "[3,    40] loss: 0.593, accuracy: 70.47%\n",
      "[3,    60] loss: 0.585, accuracy: 69.69%\n",
      "[3,    80] loss: 0.543, accuracy: 71.88%\n",
      "[3,   100] loss: 0.571, accuracy: 71.56%\n",
      "[3,   120] loss: 0.554, accuracy: 72.19%\n",
      "Accuracy of the network on the 455 validation images: 70%\n",
      "[4,    20] loss: 0.571, accuracy: 70.16%\n",
      "[4,    40] loss: 0.558, accuracy: 72.19%\n",
      "[4,    60] loss: 0.569, accuracy: 72.19%\n",
      "[4,    80] loss: 0.565, accuracy: 70.47%\n",
      "[4,   100] loss: 0.535, accuracy: 74.53%\n",
      "[4,   120] loss: 0.554, accuracy: 72.19%\n",
      "Accuracy of the network on the 455 validation images: 70%\n",
      "[5,    20] loss: 0.558, accuracy: 70.94%\n",
      "[5,    40] loss: 0.555, accuracy: 70.62%\n",
      "[5,    60] loss: 0.534, accuracy: 75.00%\n",
      "[5,    80] loss: 0.550, accuracy: 72.19%\n",
      "[5,   100] loss: 0.576, accuracy: 72.34%\n",
      "[5,   120] loss: 0.568, accuracy: 70.47%\n",
      "Accuracy of the network on the 455 validation images: 65%\n",
      "[6,    20] loss: 0.553, accuracy: 71.88%\n",
      "[6,    40] loss: 0.548, accuracy: 72.03%\n",
      "[6,    60] loss: 0.528, accuracy: 73.12%\n",
      "[6,    80] loss: 0.545, accuracy: 74.22%\n",
      "[6,   100] loss: 0.574, accuracy: 73.12%\n",
      "[6,   120] loss: 0.518, accuracy: 75.16%\n",
      "Accuracy of the network on the 455 validation images: 68%\n",
      "[7,    20] loss: 0.615, accuracy: 70.78%\n",
      "[7,    40] loss: 0.530, accuracy: 73.28%\n",
      "[7,    60] loss: 0.519, accuracy: 74.22%\n",
      "[7,    80] loss: 0.513, accuracy: 74.06%\n",
      "[7,   100] loss: 0.543, accuracy: 71.41%\n",
      "[7,   120] loss: 0.541, accuracy: 72.03%\n",
      "Accuracy of the network on the 455 validation images: 72%\n",
      "[8,    20] loss: 0.522, accuracy: 75.78%\n",
      "[8,    40] loss: 0.502, accuracy: 75.78%\n",
      "[8,    60] loss: 0.515, accuracy: 75.62%\n",
      "[8,    80] loss: 0.557, accuracy: 71.41%\n",
      "[8,   100] loss: 0.501, accuracy: 76.72%\n",
      "[8,   120] loss: 0.537, accuracy: 71.09%\n",
      "Accuracy of the network on the 455 validation images: 70%\n",
      "[9,    20] loss: 0.520, accuracy: 74.22%\n",
      "[9,    40] loss: 0.503, accuracy: 75.78%\n",
      "[9,    60] loss: 0.490, accuracy: 75.31%\n",
      "[9,    80] loss: 0.538, accuracy: 73.59%\n",
      "[9,   100] loss: 0.539, accuracy: 73.44%\n",
      "[9,   120] loss: 0.502, accuracy: 77.50%\n",
      "Accuracy of the network on the 455 validation images: 71%\n",
      "[10,    20] loss: 0.504, accuracy: 75.78%\n",
      "[10,    40] loss: 0.453, accuracy: 77.97%\n",
      "[10,    60] loss: 0.523, accuracy: 73.91%\n",
      "[10,    80] loss: 0.525, accuracy: 71.88%\n",
      "[10,   100] loss: 0.521, accuracy: 75.16%\n",
      "[10,   120] loss: 0.472, accuracy: 77.19%\n",
      "Accuracy of the network on the 455 validation images: 69%\n",
      "[11,    20] loss: 0.511, accuracy: 76.25%\n",
      "[11,    40] loss: 0.523, accuracy: 73.59%\n",
      "[11,    60] loss: 0.527, accuracy: 78.12%\n",
      "[11,    80] loss: 0.469, accuracy: 77.97%\n",
      "[11,   100] loss: 0.468, accuracy: 78.44%\n",
      "[11,   120] loss: 0.495, accuracy: 76.41%\n",
      "Accuracy of the network on the 455 validation images: 70%\n",
      "[12,    20] loss: 0.480, accuracy: 77.81%\n",
      "[12,    40] loss: 0.445, accuracy: 79.06%\n",
      "[12,    60] loss: 0.513, accuracy: 74.22%\n",
      "[12,    80] loss: 0.480, accuracy: 77.66%\n",
      "[12,   100] loss: 0.505, accuracy: 76.09%\n",
      "[12,   120] loss: 0.496, accuracy: 77.81%\n",
      "Accuracy of the network on the 455 validation images: 69%\n",
      "[13,    20] loss: 0.495, accuracy: 75.47%\n",
      "[13,    40] loss: 0.488, accuracy: 76.72%\n",
      "[13,    60] loss: 0.484, accuracy: 78.12%\n",
      "[13,    80] loss: 0.492, accuracy: 76.41%\n",
      "[13,   100] loss: 0.466, accuracy: 77.03%\n",
      "[13,   120] loss: 0.478, accuracy: 76.25%\n",
      "Accuracy of the network on the 455 validation images: 69%\n",
      "[14,    20] loss: 0.499, accuracy: 76.25%\n",
      "[14,    40] loss: 0.423, accuracy: 81.09%\n",
      "[14,    60] loss: 0.454, accuracy: 80.16%\n",
      "[14,    80] loss: 0.495, accuracy: 76.41%\n",
      "[14,   100] loss: 0.439, accuracy: 79.53%\n",
      "[14,   120] loss: 0.490, accuracy: 77.81%\n",
      "Accuracy of the network on the 455 validation images: 68%\n",
      "[15,    20] loss: 0.439, accuracy: 79.38%\n",
      "[15,    40] loss: 0.420, accuracy: 80.78%\n",
      "[15,    60] loss: 0.446, accuracy: 76.56%\n",
      "[15,    80] loss: 0.452, accuracy: 78.28%\n",
      "[15,   100] loss: 0.487, accuracy: 75.47%\n",
      "[15,   120] loss: 0.472, accuracy: 77.03%\n",
      "Accuracy of the network on the 455 validation images: 71%\n",
      "[16,    20] loss: 0.432, accuracy: 77.66%\n",
      "[16,    40] loss: 0.468, accuracy: 77.97%\n",
      "[16,    60] loss: 0.448, accuracy: 80.00%\n",
      "[16,    80] loss: 0.456, accuracy: 81.72%\n",
      "[16,   100] loss: 0.453, accuracy: 78.75%\n",
      "[16,   120] loss: 0.423, accuracy: 81.25%\n",
      "Accuracy of the network on the 455 validation images: 70%\n",
      "[17,    20] loss: 0.424, accuracy: 78.28%\n",
      "[17,    40] loss: 0.396, accuracy: 80.94%\n",
      "[17,    60] loss: 0.453, accuracy: 79.22%\n",
      "[17,    80] loss: 0.424, accuracy: 80.16%\n",
      "[17,   100] loss: 0.458, accuracy: 79.06%\n",
      "[17,   120] loss: 0.434, accuracy: 79.22%\n",
      "Accuracy of the network on the 455 validation images: 71%\n",
      "[18,    20] loss: 0.378, accuracy: 82.66%\n",
      "[18,    40] loss: 0.392, accuracy: 80.47%\n",
      "[18,    60] loss: 0.446, accuracy: 80.47%\n",
      "[18,    80] loss: 0.465, accuracy: 76.88%\n",
      "[18,   100] loss: 0.410, accuracy: 79.38%\n",
      "[18,   120] loss: 0.419, accuracy: 80.47%\n",
      "Accuracy of the network on the 455 validation images: 70%\n",
      "[19,    20] loss: 0.381, accuracy: 81.72%\n",
      "[19,    40] loss: 0.401, accuracy: 80.31%\n",
      "[19,    60] loss: 0.432, accuracy: 78.28%\n",
      "[19,    80] loss: 0.439, accuracy: 78.59%\n",
      "[19,   100] loss: 0.431, accuracy: 81.56%\n",
      "[19,   120] loss: 0.420, accuracy: 79.38%\n",
      "Accuracy of the network on the 455 validation images: 68%\n",
      "[20,    20] loss: 0.335, accuracy: 84.84%\n",
      "[20,    40] loss: 0.419, accuracy: 80.16%\n",
      "[20,    60] loss: 0.402, accuracy: 80.47%\n",
      "[20,    80] loss: 0.431, accuracy: 79.84%\n",
      "[20,   100] loss: 0.417, accuracy: 79.53%\n",
      "[20,   120] loss: 0.408, accuracy: 80.94%\n",
      "Accuracy of the network on the 455 validation images: 67%\n"
     ]
    }
   ],
   "source": [
    "#use validation set to decide epoch\n",
    "n_epochs =20\n",
    "losses = []\n",
    "accuracies = []\n",
    "validation_accuracies=[]\n",
    "\n",
    "for epoch in range(n_epochs):  # loop over the dataset multiple times\n",
    "    early_stop = 0\n",
    "    running_loss_epoch = 0.0\n",
    "    running_accuracy_epoch = []\n",
    "    running_loss = 0.0\n",
    "    running_accuracy = []\n",
    "    for idx,data in enumerate(trainloader):\n",
    "        ### Get data, send it to the GPU\n",
    "        img,lab = data\n",
    "        img = img.to(device)\n",
    "        lab = lab.to(device)\n",
    "\n",
    "        ### Model calculations\n",
    "        # zero the gradients out\n",
    "        optimizer.zero_grad()\n",
    "        # get the predictions of the model and compute the loss\n",
    "        out = model(img)\n",
    "        # print(out.shape,lab.shape)\n",
    "        loss = loss_fn(out,lab)\n",
    "        # calculate the gradient and take a step with the model\n",
    "        loss.backward()\n",
    "        optimizer.step()\n",
    "        # add the loss for this batch to the running loss\n",
    "        running_loss += loss.item()\n",
    "        running_loss_epoch += loss.item()\n",
    "        # running accuracy calculation\n",
    "        running_accuracy.append(((sum(torch.argmax(out,1) == lab)/batch_size)*100).item())\n",
    "        running_accuracy_epoch.append(((sum(torch.argmax(out,1) == lab)/batch_size)*100).item())\n",
    "        if (idx+1) % 20 == 0: \n",
    "            print(f'[{epoch + 1}, {idx + 1:5d}] loss: {running_loss / 20:.3f}, accuracy: {np.mean(running_accuracy):3.2f}%')\n",
    "            running_loss = 0.0 # reset this value, else your loss will seem to be going up every time\n",
    "            running_accuracy = []\n",
    "    losses.append(running_loss_epoch / len(trainloader))\n",
    "    accuracies.append(np.mean(running_accuracy_epoch))\n",
    "    # calculate test accuracy on validation set\n",
    "    correct = 0\n",
    "    total = 0\n",
    "\n",
    "    lab_pred = []\n",
    "    lab_true = []\n",
    "    \n",
    "    \n",
    "    with torch.no_grad():\n",
    "    # iterate over validation data\n",
    "        for data in validationloader:\n",
    "            img, lab = data\n",
    "            img = img.to(device)\n",
    "            lab = lab.to(device)\n",
    "            # calculate outputs by running images through the network\n",
    "            out = model(img)\n",
    "            # the class with the highest energy is what we choose as prediction\n",
    "            pred = torch.argmax(out.data, 1)\n",
    "            total += lab.size(0)\n",
    "            correct += (pred == lab).sum().item()\n",
    "\n",
    "            lab_pred.extend(pred.tolist()) # Save predictions\n",
    "            lab_true.extend(lab.tolist()) # Save true labels\n",
    "    validation_accuracies.append(100*correct // total)\n",
    "    #print(validation_accuracies)\n",
    "    print(f'Accuracy of the network on the {total} validation images: {100 * correct // total}%')\n",
    "    # Save the model for future use\n",
    "    PATH = path+'/covid_xray_classifier'+save_lab+'epoch'+str(epoch+1)+'.pth'\n",
    "    torch.save(model.state_dict(), PATH)"
   ]
  },
  {
   "cell_type": "code",
   "execution_count": 11,
   "id": "recorded-ensemble",
   "metadata": {},
   "outputs": [
    {
     "data": {
      "image/png": "[encoded data removed]",
      "text/plain": [
       "<Figure size 432x288 with 1 Axes>"
      ]
     },
     "metadata": {
      "needs_background": "light"
     },
     "output_type": "display_data"
    }
   ],
   "source": [
    "# Plot losses\n",
    "plt.plot(range(1,np.shape(losses)[0]+1),losses)\n",
    "plt.xlabel('epoch')\n",
    "plt.ylabel('avg. loss')\n",
    "plt.title('Loss')\n",
    "plt.savefig(path+'/loss'+save_lab+'.png')\n",
    "\n",
    "\n"
   ]
  },
  {
   "cell_type": "code",
   "execution_count": 12,
   "id": "false-netscape",
   "metadata": {},
   "outputs": [
    {
     "data": {
      "image/png": "[encoded data removed]",
      "text/plain": [
       "<Figure size 720x360 with 1 Axes>"
      ]
     },
     "metadata": {
      "needs_background": "light"
     },
     "output_type": "display_data"
    }
   ],
   "source": [
    "# Plot training and validation accuracies\n",
    "fig=plt.figure(figsize=(10,5))\n",
    "bx=fig.add_subplot(111)\n",
    "plt.plot(range(1,np.shape(accuracies)[0]+1),accuracies)\n",
    "l0=bx.plot(range(1,np.shape(accuracies)[0]+1),accuracies,c='blue')\n",
    "l1=bx.plot(range(1,np.shape(accuracies)[0]+1),validation_accuracies,c='orange')\n",
    "plt.xlabel('epoch')\n",
    "plt.ylabel('avg. accuracy (%)')\n",
    "plt.title('Training Accuracy vs Validation Accuracy')\n",
    "plt.savefig(path+'/accuracy'+save_lab+'.png')\n",
    "\n"
   ]
  },
  {
   "cell_type": "code",
   "execution_count": 19,
   "id": "seeing-monday",
   "metadata": {},
   "outputs": [
    {
     "data": {
      "text/plain": [
       "<All keys matched successfully>"
      ]
     },
     "execution_count": 19,
     "metadata": {},
     "output_type": "execute_result"
    }
   ],
   "source": [
    "# **Running the model on the test set**\n",
    "\n",
    "# # Load model\n",
    "model.load_state_dict(torch.load(path+'/covid_xray_classifier'+save_lab+'epoch7'+'.pth'))\n",
    "\n",
    "\n",
    "\n"
   ]
  },
  {
   "cell_type": "code",
   "execution_count": 20,
   "id": "unexpected-armstrong",
   "metadata": {},
   "outputs": [
    {
     "name": "stdout",
     "output_type": "stream",
     "text": [
      "Accuracy of the network on the 150 test images: 73%\n"
     ]
    }
   ],
   "source": [
    "# # Load model\n",
    "# model.load_state_dict(torch.load(PATH))\n",
    "\n",
    "correct = 0\n",
    "total = 0\n",
    "\n",
    "lab_pred = []\n",
    "lab_true = []\n",
    "\n",
    "with torch.no_grad():\n",
    "    # iterate over test data\n",
    "    for data in testloader:\n",
    "        img, lab = data\n",
    "        img = img.to(device)\n",
    "        lab = lab.to(device)\n",
    "        # calculate outputs by running images through the network\n",
    "        out = model(img)\n",
    "        # the class with the highest energy is what we choose as prediction\n",
    "        pred = torch.argmax(out.data, 1)\n",
    "        total += lab.size(0)\n",
    "        correct += (pred == lab).sum().item()\n",
    "\n",
    "        lab_pred.extend(pred.tolist()) # Save predictions\n",
    "        lab_true.extend(lab.tolist()) # Save true labels\n",
    "\n",
    "print(f'Accuracy of the network on the {total} test images: {100 * correct // total}%')"
   ]
  },
  {
   "cell_type": "code",
   "execution_count": 22,
   "id": "natural-silicon",
   "metadata": {},
   "outputs": [
    {
     "data": {
      "image/png": "[encoded data removed]",
      "text/plain": [
       "<Figure size 504x360 with 2 Axes>"
      ]
     },
     "metadata": {
      "needs_background": "light"
     },
     "output_type": "display_data"
    }
   ],
   "source": [
    "# **Generate Confusion Matrix**\n",
    "\n",
    "from sklearn.metrics import confusion_matrix\n",
    "import seaborn as sn\n",
    "import pandas as pd\n",
    "\n",
    "# Classes\n",
    "classes = ('Low Brixia Score','High Brixia Score')\n",
    "\n",
    "# Build confusion matrix\n",
    "cf_matrix = confusion_matrix(lab_true, lab_pred)\n",
    "df_cm = pd.DataFrame(cf_matrix/np.sum(cf_matrix), index = [i for i in classes],\n",
    "                     columns = [i for i in classes])\n",
    "plt.figure(figsize = (7,5))\n",
    "sn.heatmap(df_cm, annot=True,fmt='2.1%')\n",
    "plt.savefig(path+'/confusion_matrix'+save_lab+'.png')"
   ]
  },
  {
   "cell_type": "code",
   "execution_count": null,
   "id": "established-beads",
   "metadata": {},
   "outputs": [],
   "source": []
  }
 ],
 "metadata": {
  "kernelspec": {
   "display_name": "Python 3",
   "language": "python",
   "name": "python3"
  },
  "language_info": {
   "codemirror_mode": {
    "name": "ipython",
    "version": 3
   },
   "file_extension": ".py",
   "mimetype": "text/x-python",
   "name": "python",
   "nbconvert_exporter": "python",
   "pygments_lexer": "ipython3",
   "version": "3.7.9"
  }
 },
 "nbformat": 4,
 "nbformat_minor": 5
}
