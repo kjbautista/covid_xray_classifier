{
 "cells": [
  {
   "cell_type": "code",
   "execution_count": 1,
   "metadata": {
    "colab": {
     "base_uri": "https://localhost:8080/"
    },
    "id": "Pn-xPPzz1tHf",
    "outputId": "9fab08f1-16c6-49e1-8952-bef095fbc135"
   },
   "outputs": [
    {
     "name": "stdout",
     "output_type": "stream",
     "text": [
      "Device: cuda\n"
     ]
    }
   ],
   "source": [
    "import torch\n",
    "import torch.nn.functional as F\n",
    "from torch.utils.data import DataLoader, Dataset\n",
    "import torch.optim as optim\n",
    "\n",
    "import torchvision\n",
    "from torchvision import transforms\n",
    "\n",
    "import numpy as np\n",
    "import matplotlib.pyplot as plt\n",
    "import pandas as pd\n",
    "\n",
    "import os\n",
    "\n",
    "from imutils import build_montages\n",
    "import cv2\n",
    "\n",
    "from sklearn.metrics import confusion_matrix\n",
    "from sklearn.model_selection import train_test_split\n",
    "\n",
    "import seaborn as sn\n",
    "import pandas as pd\n",
    "\n",
    "# Set up CUDA\n",
    "device = torch.device(\"cuda\" if torch.cuda.is_available() else \"cpu\")\n",
    "if device == torch.device(\"cpu\"):\n",
    "  print('Set the runtime to GPU!')\n",
    "else:\n",
    "  print(f\"Device: {device}\")"
   ]
  },
  {
   "cell_type": "code",
   "execution_count": 2,
   "metadata": {},
   "outputs": [],
   "source": [
    "# Add label to save files\n",
    "save_lab = '-net3'\n",
    "\n",
    "##### change path to x-ray files location !!!!! ######\n",
    "path = \"/pine/scr/k/a/kathlyne/comp562/final_project/\" \n",
    "######################################################\n",
    "\n",
    "# Select epoch based on training results\n",
    "sel_epoch = 12"
   ]
  },
  {
   "cell_type": "markdown",
   "metadata": {},
   "source": [
    "**Load dataset**"
   ]
  },
  {
   "cell_type": "code",
   "execution_count": 3,
   "metadata": {
    "colab": {
     "base_uri": "https://localhost:8080/",
     "height": 330
    },
    "id": "2tXTXCNWGPkW",
    "outputId": "baf4f469-2b39-4c64-a260-dbd45f7677d7"
   },
   "outputs": [],
   "source": [
    "cols = [\"Filename\",\"BrixiaScoreGlobal\",\"ConsensusTestset\"]\n",
    "cutoff = 8 # optimal cutoff based on literature (add citation)\n",
    "\n",
    "# Get list of file paths to images\n",
    "metadata = pd.read_csv(os.path.join(path,\"metadata.csv\"),sep=\";\",usecols=cols)\n",
    "file_list = metadata.Filename.copy()\n",
    "\n",
    "for i in range(len(file_list)):\n",
    "    tmp = str(os.path.splitext(file_list[i])[0])\n",
    "    file_list[i] = os.path.join(path,\"segmented_png\",(tmp+\".png\"))\n",
    "\n",
    "# Define image labels based on cutoff value\n",
    "labels = (metadata.BrixiaScoreGlobal >= cutoff)\n",
    "  # 0 = low Brixia score (< 8)\n",
    "  # 1 = high Brixia score (>= 8)\n",
    "\n",
    "# Split into training/val and test sets\n",
    "trainval_files = file_list[(metadata.ConsensusTestset == 0)]\n",
    "trainval_labels = labels[metadata.ConsensusTestset == 0]\n",
    "test_files = file_list[metadata.ConsensusTestset == 1]\n",
    "test_labels = labels[metadata.ConsensusTestset == 1]\n"
   ]
  },
  {
   "cell_type": "code",
   "execution_count": 4,
   "metadata": {
    "id": "BTO4WSRHjx5B"
   },
   "outputs": [],
   "source": [
    "### Data Pre-processing ###\n",
    "transform = transforms.Compose(\n",
    "    [transforms.ToTensor(), # convert to tensor\n",
    "     transforms.Normalize((0.5,), (0.5,))]) # normalize\n",
    "\n",
    "### Define custom dataset ###\n",
    "class XRayDataset(Dataset):\n",
    "    def __init__(self,image_paths,image_labels,transform=False):\n",
    "        self.image_paths = image_paths\n",
    "        self.image_labels = image_labels\n",
    "        self.transform = transform\n",
    "    def __len__(self):\n",
    "        return len(self.image_paths)\n",
    "    def __getitem__(self,idx):\n",
    "        image_filepath = self.image_paths.iloc[idx]\n",
    "        image = cv2.imread(image_filepath)\n",
    "        image = cv2.cvtColor(image,cv2.COLOR_BGR2GRAY)\n",
    "        label = (self.image_labels.iloc[idx]).astype(int)\n",
    "        if self.transform is not None:\n",
    "            image = self.transform(image)\n",
    "        return image, label\n",
    "\n",
    "### Create datasets ###\n",
    "trainval_set = XRayDataset(trainval_files,trainval_labels,transform)\n",
    "test_set = XRayDataset(test_files,test_labels,transform)"
   ]
  },
  {
   "cell_type": "code",
   "execution_count": 5,
   "metadata": {
    "id": "xUReic7lqU9c"
   },
   "outputs": [],
   "source": [
    "batch_size = 32 # randomly-chosen - ideally, needs a hyperparameter search\n",
    "\n",
    "# Load the datasets using Pytorch DataLoader\n",
    "trainvalloader = torch.utils.data.DataLoader(trainval_set,batch_size=batch_size,shuffle=True,num_workers=0)\n",
    "testloader = torch.utils.data.DataLoader(test_set,batch_size=batch_size,shuffle=True,num_workers=0)\n",
    "\n",
    "image_size = 512 # pixel dimensions of image"
   ]
  },
  {
   "cell_type": "markdown",
   "metadata": {
    "id": "6dG6-GG2rGc8"
   },
   "source": [
    "**Creating the model**"
   ]
  },
  {
   "cell_type": "code",
   "execution_count": 6,
   "metadata": {
    "id": "4SyUV5WdrDoN"
   },
   "outputs": [],
   "source": [
    "## CNN architecture\n",
    "class simple_cnn(torch.nn.Module):\n",
    "  def __init__(self,input_channels,n_filters,filt_size,input_size,n_classes):\n",
    "    super().__init__()\n",
    "\n",
    "    # inputs\n",
    "    self.input_channels = input_channels # number of channels in the input image\n",
    "    self.n_filters = n_filters # list of number of filters in each layer\n",
    "    self.filt_size = filt_size # list of filter sizes\n",
    "    self.input_size = input_size  # size of the input image\n",
    "    self.n_classes = n_classes;\n",
    "\n",
    "    # avg pooling\n",
    "    self.pool = torch.nn.AvgPool2d(2,2) \n",
    "\n",
    "    # conv layers\n",
    "    self.conv0 = torch.nn.Conv2d(in_channels = input_channels, out_channels = n_filters[0], kernel_size = filt_size[0], padding = 0, stride = 2)\n",
    "    self.conv1 = torch.nn.Conv2d(in_channels = n_filters[0], out_channels = n_filters[1], kernel_size = filt_size[1], padding = 0, stride = 2)\n",
    "    self.conv2 = torch.nn.Conv2d(in_channels = n_filters[1],out_channels = n_filters[2], kernel_size = filt_size[2], padding = 0, stride = 2)\n",
    "    \n",
    "    # linear layer - applies a linear transformation\n",
    "    self.fc0 = torch.nn.Linear(in_features = 288, out_features = 64)\n",
    "    self.fc1 = torch.nn.Linear(in_features = 64, out_features = 2) \n",
    "    \n",
    "    # batch normalization\n",
    "    self.batchnorm1 = torch.nn.BatchNorm2d(n_filters[0])\n",
    "    self.batchnorm2 = torch.nn.BatchNorm2d(n_filters[1])\n",
    "    self.batchnorm3 = torch.nn.BatchNorm2d(n_filters[2])\n",
    "\n",
    "    # dropout\n",
    "    self.drop2d1 = torch.nn.Dropout2d(0.2)\n",
    "    self.drop2d2 = torch.nn.Dropout2d(0.3)\n",
    "\n",
    "  def forward(self,x):\n",
    "    x = self.conv0(x)\n",
    "    x = self.batchnorm1(x)\n",
    "    x = self.drop2d1(x)\n",
    "    x = F.relu(x)\n",
    "    x = self.pool(x)\n",
    "    x = self.conv1(x)\n",
    "    x = self.batchnorm2(x)\n",
    "    x = self.drop2d2(x)\n",
    "    x = F.relu(x)\n",
    "    x = self.pool(x)\n",
    "    x = self.conv2(x)\n",
    "    x = self.batchnorm3(x)\n",
    "    x = self.drop2d2(x)\n",
    "    x = F.relu(x)\n",
    "    x = self.pool(x)\n",
    "    x = torch.flatten(x, 1)\n",
    "    x = self.fc0(x)\n",
    "    x = F.relu(x)\n",
    "    x = self.fc1(x)\n",
    "    return x"
   ]
  },
  {
   "cell_type": "code",
   "execution_count": 7,
   "metadata": {
    "colab": {
     "base_uri": "https://localhost:8080/"
    },
    "id": "Who6aijGraew",
    "outputId": "8b100697-f636-47cf-e59c-a57b5e3639d4"
   },
   "outputs": [],
   "source": [
    "# Model\n",
    "input_channels = 1 # grayscale image\n",
    "n_filters = [8,16,32] \n",
    "filt_size = [16,16,16]\n",
    "input_size = image_size\n",
    "n_classes = 2\n",
    "model = simple_cnn(input_channels,n_filters,filt_size,input_size,n_classes).to(device)"
   ]
  },
  {
   "cell_type": "code",
   "execution_count": 8,
   "metadata": {
    "colab": {
     "base_uri": "https://localhost:8080/"
    },
    "id": "Fs9wNuINN6fD",
    "outputId": "966ef2e5-2afe-4d54-8cc4-7ce79ea198aa"
   },
   "outputs": [
    {
     "data": {
      "text/plain": [
       "<All keys matched successfully>"
      ]
     },
     "execution_count": 8,
     "metadata": {},
     "output_type": "execute_result"
    }
   ],
   "source": [
    "# # Load model at selected epoch defined above\n",
    "model.load_state_dict(torch.load(path+'/covid_xray_classifier'+save_lab+'epoch'+str(sel_epoch)+'.pth'))"
   ]
  },
  {
   "cell_type": "markdown",
   "metadata": {},
   "source": [
    "**Train on combined test and validation set**"
   ]
  },
  {
   "cell_type": "code",
   "execution_count": 9,
   "metadata": {},
   "outputs": [],
   "source": [
    "### Cost function ###\n",
    "# Cross Entropy Loss\n",
    "loss_fn = torch.nn.CrossEntropyLoss()\n",
    "\n",
    "### Optimizer ###\n",
    "# AdamW Optimizer (with L2 regularization)\n",
    "optimizer = torch.optim.AdamW(model.parameters(), lr=1e-3)\n",
    "\n",
    "for idx,data in enumerate(trainvalloader):\n",
    "    ### Get data, send it to the GPU\n",
    "    img,lab = data\n",
    "    img = img.to(device)\n",
    "    lab = lab.to(device)\n",
    "\n",
    "    ### Model calculations\n",
    "    # zero the gradients out\n",
    "    optimizer.zero_grad()\n",
    "    # get the predictions of the model and compute the loss\n",
    "    out = model(img)\n",
    "    # print(out.shape,lab.shape)\n",
    "    loss = loss_fn(out,lab)\n",
    "    # calculate the gradient and take a step with the model\n",
    "    loss.backward()\n",
    "    optimizer.step()"
   ]
  },
  {
   "cell_type": "code",
   "execution_count": 10,
   "metadata": {},
   "outputs": [],
   "source": [
    "# # Save the final model\n",
    "PATH = path+'/covid_xray_classifier'+save_lab+'-final.pth'\n",
    "torch.save(model.state_dict(), PATH)"
   ]
  },
  {
   "cell_type": "markdown",
   "metadata": {
    "id": "xBzWKAlMN_eH"
   },
   "source": [
    "**Running the model on the test set**"
   ]
  },
  {
   "cell_type": "code",
   "execution_count": 11,
   "metadata": {
    "id": "8kO8KSdYOdDI"
   },
   "outputs": [
    {
     "name": "stdout",
     "output_type": "stream",
     "text": [
      "Accuracy of the network on the 150 test images: 76%\n"
     ]
    }
   ],
   "source": [
    "correct = 0\n",
    "total = 0\n",
    "\n",
    "lab_pred = []\n",
    "lab_true = []\n",
    "\n",
    "with torch.no_grad():\n",
    "    # iterate over test data\n",
    "    for data in testloader:\n",
    "        img, lab = data\n",
    "        img = img.to(device)\n",
    "        lab = lab.to(device)\n",
    "        # calculate outputs by running images through the network\n",
    "        out = model(img)\n",
    "        # the class with the highest energy is what we choose as prediction\n",
    "        pred = torch.argmax(out.data, 1)\n",
    "        total += lab.size(0)\n",
    "        correct += (pred == lab).sum().item()\n",
    "\n",
    "        lab_pred.extend(pred.tolist()) # Save predictions\n",
    "        lab_true.extend(lab.tolist()) # Save true labels\n",
    "\n",
    "print(f'Accuracy of the network on the {total} test images: {100 * correct // total}%')"
   ]
  },
  {
   "cell_type": "markdown",
   "metadata": {
    "id": "upvg0CudUT8K"
   },
   "source": [
    "**Generate Confusion Matrix**"
   ]
  },
  {
   "cell_type": "code",
   "execution_count": 29,
   "metadata": {
    "id": "Qf6BqJxmS3Nq",
    "scrolled": true
   },
   "outputs": [
    {
     "data": {
      "image/png": "[encoded data removed]",
      "text/plain": [
       "<Figure size 504x360 with 2 Axes>"
      ]
     },
     "metadata": {
      "needs_background": "light"
     },
     "output_type": "display_data"
    }
   ],
   "source": [
    "# Classes\n",
    "classes = ('Low Brixia Score','High Brixia Score')\n",
    "\n",
    "# Build confusion matrix\n",
    "cf_matrix = confusion_matrix(lab_true, lab_pred)\n",
    "df_cm = pd.DataFrame(cf_matrix/np.sum(cf_matrix), index = [i for i in classes],\n",
    "                     columns = [i for i in classes])\n",
    "plt.figure(figsize = (7,5))\n",
    "sn.heatmap(df_cm, annot=True,fmt='2.0%')\n",
    "plt.savefig(path+'/confusion_matrix'+save_lab+'.png')"
   ]
  },
  {
   "cell_type": "raw",
   "metadata": {},
   "source": [
    "torch.cuda.empty_cache()"
   ]
  }
 ],
 "metadata": {
  "kernelspec": {
   "display_name": "comp562",
   "language": "python",
   "name": "comp562"
  },
  "language_info": {
   "codemirror_mode": {
    "name": "ipython",
    "version": 3
   },
   "file_extension": ".py",
   "mimetype": "text/x-python",
   "name": "python",
   "nbconvert_exporter": "python",
   "pygments_lexer": "ipython3",
   "version": "3.9.12"
  }
 },
 "nbformat": 4,
 "nbformat_minor": 4
}
