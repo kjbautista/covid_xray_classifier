{
 "cells": [
  {
   "cell_type": "markdown",
   "metadata": {
    "id": "ChPdAPiNmhCu"
   },
   "source": [
    "**Image Classifier with a Convolution Neural Network (CNN)**\n",
    "\n",
    "This classifier will classify a X-Ray dataset (https://www.kaggle.com/datasets/andrewmvd/covid19-xray-severity-scoring) using a deep convolutional neural network based on prognostic scoring using the BRIXIA scoring system.\n",
    "\n",
    "We will use PyTorch (https://pytorch.org/) as our deep learning framework. "
   ]
  },
  {
   "cell_type": "code",
   "execution_count": 1,
   "metadata": {
    "colab": {
     "base_uri": "https://localhost:8080/"
    },
    "id": "Pn-xPPzz1tHf",
    "outputId": "9fab08f1-16c6-49e1-8952-bef095fbc135"
   },
   "outputs": [
    {
     "name": "stdout",
     "output_type": "stream",
     "text": [
      "Device: cuda\n"
     ]
    }
   ],
   "source": [
    "import torch\n",
    "import torch.nn.functional as F\n",
    "from torch.utils.data import DataLoader, Dataset\n",
    "import torch.optim as optim\n",
    "\n",
    "import torchvision\n",
    "from torchvision import transforms\n",
    "\n",
    "import numpy as np\n",
    "import matplotlib.pyplot as plt\n",
    "import pandas as pd\n",
    "\n",
    "import os\n",
    "\n",
    "from imutils import build_montages\n",
    "import cv2\n",
    "\n",
    "from sklearn.metrics import confusion_matrix\n",
    "import seaborn as sn\n",
    "import pandas as pd\n",
    "\n",
    "# Set up CUDA\n",
    "device = torch.device(\"cuda\" if torch.cuda.is_available() else \"cpu\")\n",
    "if device == torch.device(\"cpu\"):\n",
    "  print('Set the runtime to GPU!')\n",
    "else:\n",
    "  print(f\"Device: {device}\")"
   ]
  },
  {
   "cell_type": "code",
   "execution_count": 2,
   "metadata": {},
   "outputs": [],
   "source": [
    "# Add label to save files\n",
    "save_lab = '-net1'"
   ]
  },
  {
   "cell_type": "markdown",
   "metadata": {
    "id": "bcB4BlIYnAK8"
   },
   "source": [
    "\n",
    "<!--bibtex\n",
    "@article{BS-Net2021,\n",
    "  title = {BS-Net: learning COVID-19 pneumonia severity on a large Chest X-Ray dataset},\n",
    "  journal = {Medical Image Analysis},\n",
    "  pages = {102046},\n",
    "  year = {2021},\n",
    "  issn = {1361-8415},\n",
    "  doi = {https://doi.org/10.1016/j.media.2021.102046},\n",
    "  url = {https://www.sciencedirect.com/science/article/pii/S136184152100092X},\n",
    "  author = {Alberto Signoroni and Mattia Savardi and Sergio Benini and Nicola Adami and Riccardo Leonardi and Paolo Gibellini and Filippo Vaccher and Marco Ravanelli and Andrea Borghesi and Roberto Maroldi and Davide Farina},\n",
    "}\n",
    "\n",
    "@article{borghesi2020covid,\n",
    "  title={COVID-19 outbreak in Italy: experimental chest X-ray scoring system for quantifying and monitoring disease progression},\n",
    "  author={Borghesi, Andrea and Maroldi, Roberto},\n",
    "  journal={La radiologia medica},\n",
    "  volume={125},\n",
    "  pages={509-513},\n",
    "  year={2020},\n",
    "  publisher={Springer}\n",
    "}\n",
    "@article{borghesi_et_al_2020, \n",
    "    title={Chest X-ray severity index as a predictor of in-hospital mortality in coronavirus disease 2019: A study of 302 patients from Italy}, \n",
    "    volume={96}, \n",
    "    DOI={10.1016/j.ijid.2020.05.021}, \n",
    "    journal={International Journal of Infectious Diseases}, \n",
    "    author={Borghesi, Andrea and Zigliani, Angelo and Golemi, Salvatore and Carapella, Nicola and Maculotti, Patrizia and Farina, Davide and Maroldi, Roberto}, \n",
    "    year={2020}, \n",
    "    pages={291–293}} \n",
    "-->\n",
    "The dataset (https://www.kaggle.com/datasets/andrewmvd/covid19-xray-severity-scoring) will be loaded from Kaggle. Refer to these papers for extensive discussion of the methods relating to this dataset:\n",
    "([Signoroni et al., 2021](#cite-BS-Net2021)) and ([Borghesi & Maroldi, 2020](#cite-borghesi2020covid)).\n",
    "\n",
    "The Global Brixia Score labels will be binarized based on a cutoff value of 8 presented in this paper ([Borghesi et al., 2020](#cite-borghesi_et_al_2020)). A binary classification will be done. \n",
    "\n",
    "The segmented x-ray images will be used for ease of classification. \n"
   ]
  },
  {
   "cell_type": "code",
   "execution_count": 3,
   "metadata": {
    "colab": {
     "base_uri": "https://localhost:8080/",
     "height": 330
    },
    "id": "2tXTXCNWGPkW",
    "outputId": "baf4f469-2b39-4c64-a260-dbd45f7677d7"
   },
   "outputs": [
    {
     "name": "stdout",
     "output_type": "stream",
     "text": [
      "Number of images in the training set: 4545\n",
      "Number of images in the test set: 150\n"
     ]
    },
    {
     "data": {
      "image/png": "[encoded data removed]",
      "text/plain": [
       "<Figure size 432x288 with 1 Axes>"
      ]
     },
     "metadata": {
      "needs_background": "light"
     },
     "output_type": "display_data"
    }
   ],
   "source": [
    "##### change path to x-ray files location !!!!! ######\n",
    "path = \"path_to_files\" \n",
    "######################################################\n",
    "\n",
    "cols = [\"Filename\",\"BrixiaScoreGlobal\",\"ConsensusTestset\"]\n",
    "cutoff = 8 # optimal cutoff based on literature (add citation)\n",
    "\n",
    "# Get list of file paths to images\n",
    "metadata = pd.read_csv(os.path.join(path,\"metadata.csv\"),sep=\";\",usecols=cols)\n",
    "file_list = metadata.Filename.copy()\n",
    "\n",
    "for i in range(len(file_list)):\n",
    "    tmp = str(os.path.splitext(file_list[i])[0])\n",
    "    file_list[i] = os.path.join(path,\"segmented_png\",(tmp+\".png\"))\n",
    "\n",
    "# Define image labels based on cutoff value\n",
    "labels = (metadata.BrixiaScoreGlobal >= cutoff)\n",
    "  # 0 = low Brixia score (< 8)\n",
    "  # 1 = high Brixia score (>= 8)\n",
    "\n",
    "# Split into training and test sets\n",
    "train_files = file_list[(metadata.ConsensusTestset == 0)]\n",
    "train_labels = labels[metadata.ConsensusTestset == 0]\n",
    "test_files = file_list[metadata.ConsensusTestset == 1]\n",
    "test_labels = labels[metadata.ConsensusTestset == 1]\n",
    "print(f\"Number of images in the training set: {len(train_files)}\")\n",
    "print(f\"Number of images in the test set: {len(test_files)}\")\n",
    "\n",
    "# Display distribution of Global Brixia Scores\n",
    "plt.hist(metadata.BrixiaScoreGlobal,18,color='lightblue')\n",
    "plt.xlabel('Global Brixia Scores')\n",
    "plt.xlim(1,18)\n",
    "plt.ylabel('Number of Patients')\n",
    "plt.title('Distribution')\n",
    "plt.vlines(cutoff,0,400,colors='maroon',linestyles='dashed')\n",
    "plt.text(7.5,40,'Brixia score cutoff',rotation='vertical')\n",
    "plt.savefig(path+'/train_data_distr.png')"
   ]
  },
  {
   "cell_type": "code",
   "execution_count": 4,
   "metadata": {
    "id": "BTO4WSRHjx5B"
   },
   "outputs": [],
   "source": [
    "### Data Pre-processing ###\n",
    "transform = transforms.Compose(\n",
    "    [transforms.ToTensor(), # convert to tensor\n",
    "     transforms.Normalize((0.5,), (0.5,))]) # normalize\n",
    "\n",
    "### Define custom dataset ###\n",
    "class XRayDataset(Dataset):\n",
    "    def __init__(self,image_paths,image_labels,transform=False):\n",
    "        self.image_paths = image_paths\n",
    "        self.image_labels = image_labels\n",
    "        self.transform = transform\n",
    "    def __len__(self):\n",
    "        return len(self.image_paths)\n",
    "    def __getitem__(self,idx):\n",
    "        image_filepath = self.image_paths.iloc[idx]\n",
    "        image = cv2.imread(image_filepath)\n",
    "        image = cv2.cvtColor(image,cv2.COLOR_BGR2GRAY)\n",
    "        label = (self.image_labels.iloc[idx]).astype(int)\n",
    "        if self.transform is not None:\n",
    "            image = self.transform(image)\n",
    "        return image, label\n",
    "\n",
    "### Create datasets ###\n",
    "train_set = XRayDataset(train_files,train_labels,transform)\n",
    "test_set = XRayDataset(test_files,test_labels,transform)"
   ]
  },
  {
   "cell_type": "code",
   "execution_count": 5,
   "metadata": {
    "id": "M5gRmzBhkyIc"
   },
   "outputs": [
    {
     "data": {
      "text/plain": [
       "True"
      ]
     },
     "execution_count": 5,
     "metadata": {},
     "output_type": "execute_result"
    }
   ],
   "source": [
    "# Display representative images for each Brixia score\n",
    "brixscore = list(range(0,19))\n",
    "brixscore_labels = list(metadata.BrixiaScoreGlobal)\n",
    "ind = [brixscore_labels.index(x) for x in brixscore]\n",
    "\n",
    "# Create a montage of images\n",
    "imgs = []\n",
    "img = []\n",
    "for i in brixscore:\n",
    "    img_path = file_list[i]\n",
    "    img = cv2.imread(img_path)\n",
    "    imgs.append(img)\n",
    "montage = build_montages(imgs,(128,128),(10,2))[0]\n",
    "cv2.imwrite(path+'/montage.png',montage)"
   ]
  },
  {
   "cell_type": "code",
   "execution_count": 6,
   "metadata": {
    "id": "xUReic7lqU9c"
   },
   "outputs": [
    {
     "name": "stderr",
     "output_type": "stream",
     "text": [
      "/nas/longleaf/home/kathlyne/.conda/envs/comp562/lib/python3.9/site-packages/torch/utils/data/dataloader.py:487: UserWarning: This DataLoader will create 4 worker processes in total. Our suggested max number of worker in current system is 1, which is smaller than what this DataLoader is going to create. Please be aware that excessive worker creation might get DataLoader running slow or even freeze, lower the worker number to avoid potential slowness/freeze if necessary.\n",
      "  warnings.warn(_create_warning_msg(\n"
     ]
    }
   ],
   "source": [
    "batch_size = 32 # randomly-chosen - ideally, needs a hyperparameter search\n",
    "\n",
    "# Load the datasets using Pytorch DataLoader\n",
    "trainloader = torch.utils.data.DataLoader(train_set,batch_size=batch_size,shuffle=True,num_workers=4)\n",
    "testloader = torch.utils.data.DataLoader(test_set,batch_size=batch_size,shuffle=True,num_workers=4)\n",
    "\n",
    "image_size = 512 # pixel dimensions of image"
   ]
  },
  {
   "cell_type": "markdown",
   "metadata": {
    "id": "6dG6-GG2rGc8"
   },
   "source": [
    "**Creating the model**"
   ]
  },
  {
   "cell_type": "code",
   "execution_count": 7,
   "metadata": {
    "id": "4SyUV5WdrDoN"
   },
   "outputs": [],
   "source": [
    "# CNN architecture\n",
    "class simple_cnn(torch.nn.Module):\n",
    "  def __init__(self,input_channels,n_filters,filt_size,input_size,n_classes):\n",
    "    super().__init__()\n",
    "\n",
    "    # inputs\n",
    "    self.input_channels = input_channels # number of channels in the input image\n",
    "    self.n_filters = n_filters # list of number of filters in each layer\n",
    "    self.filt_size = filt_size # list of filter sizes\n",
    "    self.input_size = input_size  # size of the input image\n",
    "    self.n_classes = n_classes;\n",
    "\n",
    "    # avg pooling\n",
    "    self.pool = torch.nn.AvgPool2d(2,2) \n",
    "\n",
    "    # conv layers\n",
    "    self.conv0 = torch.nn.Conv2d(in_channels = input_channels, out_channels = n_filters[0], kernel_size = filt_size[0], padding = 0, stride = 2)\n",
    "    self.conv1 = torch.nn.Conv2d(in_channels = n_filters[0], out_channels = n_filters[1], kernel_size = filt_size[1], padding = 0, stride = 2)\n",
    "    self.conv2 = torch.nn.Conv2d(in_channels = n_filters[1],out_channels = n_filters[2], kernel_size = filt_size[2], padding = 0, stride = 2)\n",
    "\n",
    "    # linear layer - applies a linear transformation\n",
    "    self.fc0 = torch.nn.Linear(in_features = 288, out_features = 32)\n",
    "    self.fc1 = torch.nn.Linear(in_features = 32, out_features = 2) \n",
    "\n",
    "  def forward(self,x):\n",
    "    x = self.conv0(x)\n",
    "    x = F.relu(x)\n",
    "    x = self.pool(x)\n",
    "    x = self.conv1(x)\n",
    "    x = F.relu(x)\n",
    "    x = self.pool(x)\n",
    "    x = self.conv2(x)\n",
    "    x = F.relu(x)\n",
    "    x = self.pool(x)\n",
    "    x = torch.flatten(x, 1)\n",
    "    x = self.fc0(x)\n",
    "    x = F.relu(x)\n",
    "    x = self.fc1(x)\n",
    "    return x"
   ]
  },
  {
   "cell_type": "code",
   "execution_count": 8,
   "metadata": {
    "colab": {
     "base_uri": "https://localhost:8080/"
    },
    "id": "Who6aijGraew",
    "outputId": "8b100697-f636-47cf-e59c-a57b5e3639d4"
   },
   "outputs": [
    {
     "name": "stdout",
     "output_type": "stream",
     "text": [
      "torch.Size([10, 2])\n"
     ]
    }
   ],
   "source": [
    "# Model\n",
    "input_channels = 1 # grayscale image\n",
    "n_filters = [8,16,32] \n",
    "filt_size = [16,16,16]\n",
    "input_size = image_size\n",
    "n_classes = 2\n",
    "model = simple_cnn(input_channels,n_filters,filt_size,input_size,n_classes).to(device)\n",
    "\n",
    "# Quick check --\n",
    "sample_tensor = torch.randn((10,1,512,512)).to(device)\n",
    "out = model(sample_tensor)\n",
    "print(out.shape)"
   ]
  },
  {
   "cell_type": "markdown",
   "metadata": {
    "id": "gANymuBxvNMp"
   },
   "source": [
    "**Model training**"
   ]
  },
  {
   "cell_type": "code",
   "execution_count": 9,
   "metadata": {
    "id": "K-G3GaylvM-C"
   },
   "outputs": [],
   "source": [
    "### Cost function ###\n",
    "# Cross Entropy Loss\n",
    "loss_fn = torch.nn.CrossEntropyLoss()\n",
    "\n",
    "### Optimizer ###\n",
    "# AdamW Optimizer (with L2 regularization)\n",
    "optimizer = torch.optim.AdamW(model.parameters(), lr=1e-3)"
   ]
  },
  {
   "cell_type": "code",
   "execution_count": 10,
   "metadata": {
    "colab": {
     "base_uri": "https://localhost:8080/"
    },
    "id": "MaPgHurjvaXM",
    "outputId": "5b127af1-1dc1-42b7-f0d8-16f3ac1d5886"
   },
   "outputs": [
    {
     "name": "stdout",
     "output_type": "stream",
     "text": [
      "[1,    20] loss: 0.686, accuracy: 55.31%\n",
      "[1,    40] loss: 0.643, accuracy: 64.53%\n",
      "[1,    60] loss: 0.607, accuracy: 67.97%\n",
      "[1,    80] loss: 0.597, accuracy: 68.59%\n",
      "[1,   100] loss: 0.592, accuracy: 70.78%\n",
      "[1,   120] loss: 0.563, accuracy: 71.09%\n",
      "[1,   140] loss: 0.633, accuracy: 64.22%\n",
      "[2,    20] loss: 0.590, accuracy: 69.38%\n",
      "[2,    40] loss: 0.588, accuracy: 70.00%\n",
      "[2,    60] loss: 0.562, accuracy: 71.56%\n",
      "[2,    80] loss: 0.589, accuracy: 67.66%\n",
      "[2,   100] loss: 0.551, accuracy: 72.50%\n",
      "[2,   120] loss: 0.580, accuracy: 68.44%\n",
      "[2,   140] loss: 0.568, accuracy: 73.12%\n",
      "[3,    20] loss: 0.535, accuracy: 73.12%\n",
      "[3,    40] loss: 0.552, accuracy: 72.03%\n",
      "[3,    60] loss: 0.512, accuracy: 75.31%\n",
      "[3,    80] loss: 0.571, accuracy: 71.41%\n",
      "[3,   100] loss: 0.587, accuracy: 68.12%\n",
      "[3,   120] loss: 0.574, accuracy: 70.16%\n",
      "[3,   140] loss: 0.570, accuracy: 70.78%\n",
      "[4,    20] loss: 0.594, accuracy: 70.16%\n",
      "[4,    40] loss: 0.597, accuracy: 69.38%\n",
      "[4,    60] loss: 0.579, accuracy: 68.28%\n",
      "[4,    80] loss: 0.584, accuracy: 70.00%\n",
      "[4,   100] loss: 0.571, accuracy: 69.22%\n",
      "[4,   120] loss: 0.559, accuracy: 74.84%\n",
      "[4,   140] loss: 0.537, accuracy: 71.41%\n",
      "[5,    20] loss: 0.546, accuracy: 72.34%\n",
      "[5,    40] loss: 0.540, accuracy: 73.12%\n",
      "[5,    60] loss: 0.582, accuracy: 70.31%\n",
      "[5,    80] loss: 0.508, accuracy: 74.69%\n",
      "[5,   100] loss: 0.596, accuracy: 69.84%\n",
      "[5,   120] loss: 0.548, accuracy: 73.12%\n",
      "[5,   140] loss: 0.578, accuracy: 69.38%\n",
      "[6,    20] loss: 0.521, accuracy: 73.44%\n",
      "[6,    40] loss: 0.525, accuracy: 71.56%\n",
      "[6,    60] loss: 0.580, accuracy: 70.31%\n",
      "[6,    80] loss: 0.539, accuracy: 74.22%\n",
      "[6,   100] loss: 0.566, accuracy: 69.69%\n",
      "[6,   120] loss: 0.553, accuracy: 71.09%\n",
      "[6,   140] loss: 0.553, accuracy: 72.19%\n",
      "[7,    20] loss: 0.568, accuracy: 69.22%\n",
      "[7,    40] loss: 0.541, accuracy: 73.12%\n",
      "[7,    60] loss: 0.522, accuracy: 75.16%\n",
      "[7,    80] loss: 0.565, accuracy: 69.53%\n",
      "[7,   100] loss: 0.534, accuracy: 72.81%\n",
      "[7,   120] loss: 0.506, accuracy: 74.53%\n",
      "[7,   140] loss: 0.557, accuracy: 72.34%\n",
      "[8,    20] loss: 0.520, accuracy: 72.03%\n",
      "[8,    40] loss: 0.542, accuracy: 71.25%\n",
      "[8,    60] loss: 0.526, accuracy: 72.81%\n",
      "[8,    80] loss: 0.510, accuracy: 74.53%\n",
      "[8,   100] loss: 0.525, accuracy: 72.81%\n",
      "[8,   120] loss: 0.512, accuracy: 75.78%\n",
      "[8,   140] loss: 0.513, accuracy: 73.75%\n",
      "[9,    20] loss: 0.502, accuracy: 74.53%\n",
      "[9,    40] loss: 0.542, accuracy: 71.41%\n",
      "[9,    60] loss: 0.523, accuracy: 75.00%\n",
      "[9,    80] loss: 0.488, accuracy: 77.34%\n",
      "[9,   100] loss: 0.500, accuracy: 74.53%\n",
      "[9,   120] loss: 0.494, accuracy: 76.88%\n",
      "[9,   140] loss: 0.509, accuracy: 75.00%\n",
      "[10,    20] loss: 0.505, accuracy: 75.16%\n",
      "[10,    40] loss: 0.504, accuracy: 74.22%\n",
      "[10,    60] loss: 0.484, accuracy: 74.06%\n",
      "[10,    80] loss: 0.499, accuracy: 75.78%\n",
      "[10,   100] loss: 0.508, accuracy: 74.06%\n",
      "[10,   120] loss: 0.507, accuracy: 75.31%\n",
      "[10,   140] loss: 0.502, accuracy: 76.72%\n",
      "[11,    20] loss: 0.565, accuracy: 70.47%\n",
      "[11,    40] loss: 0.547, accuracy: 73.44%\n",
      "[11,    60] loss: 0.525, accuracy: 73.75%\n",
      "[11,    80] loss: 0.488, accuracy: 76.09%\n",
      "[11,   100] loss: 0.499, accuracy: 75.78%\n",
      "[11,   120] loss: 0.498, accuracy: 74.06%\n",
      "[11,   140] loss: 0.510, accuracy: 73.91%\n",
      "[12,    20] loss: 0.495, accuracy: 75.62%\n",
      "[12,    40] loss: 0.456, accuracy: 77.66%\n",
      "[12,    60] loss: 0.471, accuracy: 75.94%\n",
      "[12,    80] loss: 0.447, accuracy: 77.03%\n",
      "[12,   100] loss: 0.470, accuracy: 77.97%\n",
      "[12,   120] loss: 0.514, accuracy: 72.81%\n",
      "[12,   140] loss: 0.468, accuracy: 76.09%\n",
      "[13,    20] loss: 0.519, accuracy: 72.66%\n",
      "[13,    40] loss: 0.438, accuracy: 77.97%\n",
      "[13,    60] loss: 0.493, accuracy: 74.84%\n",
      "[13,    80] loss: 0.422, accuracy: 79.53%\n",
      "[13,   100] loss: 0.461, accuracy: 76.72%\n",
      "[13,   120] loss: 0.454, accuracy: 78.12%\n",
      "[13,   140] loss: 0.481, accuracy: 78.12%\n",
      "[14,    20] loss: 0.421, accuracy: 79.38%\n",
      "[14,    40] loss: 0.468, accuracy: 75.47%\n",
      "[14,    60] loss: 0.440, accuracy: 78.75%\n",
      "[14,    80] loss: 0.449, accuracy: 77.03%\n",
      "[14,   100] loss: 0.456, accuracy: 77.50%\n",
      "[14,   120] loss: 0.437, accuracy: 79.38%\n",
      "[14,   140] loss: 0.437, accuracy: 80.78%\n",
      "[15,    20] loss: 0.420, accuracy: 79.69%\n",
      "[15,    40] loss: 0.401, accuracy: 80.78%\n",
      "[15,    60] loss: 0.437, accuracy: 76.56%\n",
      "[15,    80] loss: 0.393, accuracy: 80.62%\n",
      "[15,   100] loss: 0.417, accuracy: 79.06%\n",
      "[15,   120] loss: 0.405, accuracy: 81.25%\n",
      "[15,   140] loss: 0.451, accuracy: 77.19%\n",
      "[16,    20] loss: 0.404, accuracy: 81.56%\n",
      "[16,    40] loss: 0.392, accuracy: 82.03%\n",
      "[16,    60] loss: 0.392, accuracy: 81.41%\n",
      "[16,    80] loss: 0.371, accuracy: 81.41%\n",
      "[16,   100] loss: 0.397, accuracy: 82.34%\n",
      "[16,   120] loss: 0.381, accuracy: 81.72%\n",
      "[16,   140] loss: 0.416, accuracy: 78.75%\n",
      "[17,    20] loss: 0.352, accuracy: 82.97%\n",
      "[17,    40] loss: 0.307, accuracy: 86.09%\n",
      "[17,    60] loss: 0.386, accuracy: 82.19%\n",
      "[17,    80] loss: 0.387, accuracy: 81.09%\n",
      "[17,   100] loss: 0.350, accuracy: 83.91%\n",
      "[17,   120] loss: 0.389, accuracy: 79.38%\n",
      "[17,   140] loss: 0.378, accuracy: 82.34%\n",
      "[18,    20] loss: 0.417, accuracy: 81.72%\n",
      "[18,    40] loss: 0.391, accuracy: 80.94%\n",
      "[18,    60] loss: 0.380, accuracy: 82.66%\n",
      "[18,    80] loss: 0.356, accuracy: 83.59%\n",
      "[18,   100] loss: 0.386, accuracy: 81.56%\n",
      "[18,   120] loss: 0.341, accuracy: 85.00%\n",
      "[18,   140] loss: 0.363, accuracy: 84.69%\n",
      "[19,    20] loss: 0.296, accuracy: 85.78%\n",
      "[19,    40] loss: 0.257, accuracy: 89.53%\n",
      "[19,    60] loss: 0.330, accuracy: 83.91%\n",
      "[19,    80] loss: 0.315, accuracy: 84.84%\n",
      "[19,   100] loss: 0.309, accuracy: 85.62%\n",
      "[19,   120] loss: 0.310, accuracy: 86.56%\n",
      "[19,   140] loss: 0.350, accuracy: 83.91%\n",
      "[20,    20] loss: 0.295, accuracy: 87.34%\n",
      "[20,    40] loss: 0.281, accuracy: 87.34%\n",
      "[20,    60] loss: 0.262, accuracy: 89.06%\n",
      "[20,    80] loss: 0.295, accuracy: 85.31%\n",
      "[20,   100] loss: 0.274, accuracy: 87.50%\n",
      "[20,   120] loss: 0.306, accuracy: 86.41%\n",
      "[20,   140] loss: 0.305, accuracy: 87.34%\n",
      "[21,    20] loss: 0.207, accuracy: 91.25%\n",
      "[21,    40] loss: 0.265, accuracy: 87.81%\n",
      "[21,    60] loss: 0.232, accuracy: 88.91%\n",
      "[21,    80] loss: 0.229, accuracy: 89.53%\n",
      "[21,   100] loss: 0.276, accuracy: 88.91%\n",
      "[21,   120] loss: 0.299, accuracy: 86.41%\n",
      "[21,   140] loss: 0.286, accuracy: 87.34%\n",
      "[22,    20] loss: 0.207, accuracy: 90.47%\n",
      "[22,    40] loss: 0.210, accuracy: 91.25%\n",
      "[22,    60] loss: 0.190, accuracy: 92.03%\n",
      "[22,    80] loss: 0.245, accuracy: 88.12%\n",
      "[22,   100] loss: 0.223, accuracy: 90.16%\n",
      "[22,   120] loss: 0.300, accuracy: 85.47%\n",
      "[22,   140] loss: 0.280, accuracy: 88.44%\n",
      "[23,    20] loss: 0.236, accuracy: 90.78%\n",
      "[23,    40] loss: 0.190, accuracy: 92.66%\n",
      "[23,    60] loss: 0.199, accuracy: 92.66%\n",
      "[23,    80] loss: 0.216, accuracy: 90.78%\n",
      "[23,   100] loss: 0.175, accuracy: 93.59%\n",
      "[23,   120] loss: 0.251, accuracy: 88.28%\n",
      "[23,   140] loss: 0.257, accuracy: 88.28%\n",
      "[24,    20] loss: 0.263, accuracy: 88.75%\n",
      "[24,    40] loss: 0.239, accuracy: 89.38%\n",
      "[24,    60] loss: 0.269, accuracy: 86.72%\n",
      "[24,    80] loss: 0.193, accuracy: 92.03%\n",
      "[24,   100] loss: 0.198, accuracy: 91.56%\n",
      "[24,   120] loss: 0.199, accuracy: 91.56%\n",
      "[24,   140] loss: 0.181, accuracy: 92.66%\n",
      "[25,    20] loss: 0.158, accuracy: 93.12%\n",
      "[25,    40] loss: 0.158, accuracy: 92.97%\n",
      "[25,    60] loss: 0.140, accuracy: 94.53%\n",
      "[25,    80] loss: 0.124, accuracy: 94.84%\n",
      "[25,   100] loss: 0.208, accuracy: 92.03%\n",
      "[25,   120] loss: 0.186, accuracy: 92.03%\n",
      "[25,   140] loss: 0.199, accuracy: 91.88%\n",
      "[26,    20] loss: 0.195, accuracy: 91.56%\n",
      "[26,    40] loss: 0.134, accuracy: 94.84%\n",
      "[26,    60] loss: 0.160, accuracy: 92.66%\n",
      "[26,    80] loss: 0.158, accuracy: 92.66%\n",
      "[26,   100] loss: 0.140, accuracy: 94.69%\n",
      "[26,   120] loss: 0.151, accuracy: 92.81%\n",
      "[26,   140] loss: 0.159, accuracy: 92.50%\n",
      "Early stop\n"
     ]
    }
   ],
   "source": [
    "n_epochs = 100\n",
    "losses = []\n",
    "accuracies = []\n",
    "\n",
    "for epoch in range(n_epochs):  # loop over the dataset multiple times\n",
    "    early_stop = 0\n",
    "    running_loss_epoch = 0.0\n",
    "    running_accuracy_epoch = []\n",
    "    running_loss = 0.0\n",
    "    running_accuracy = []\n",
    "    for idx,data in enumerate(trainloader):\n",
    "        ### Get data, send it to the GPU\n",
    "        img,lab = data\n",
    "        img = img.to(device)\n",
    "        lab = lab.to(device)\n",
    "\n",
    "        ### Model calculations\n",
    "        # zero the gradients out\n",
    "        optimizer.zero_grad()\n",
    "        # get the predictions of the model and compute the loss\n",
    "        out = model(img)\n",
    "        # print(out.shape,lab.shape)\n",
    "        loss = loss_fn(out,lab)\n",
    "        # calculate the gradient and take a step with the model\n",
    "        loss.backward()\n",
    "        optimizer.step()\n",
    "        # add the loss for this batch to the running loss\n",
    "        running_loss += loss.item()\n",
    "        running_loss_epoch += loss.item()\n",
    "        # running accuracy calculation\n",
    "        running_accuracy.append(((sum(torch.argmax(out,1) == lab)/batch_size)*100).item())\n",
    "        running_accuracy_epoch.append(((sum(torch.argmax(out,1) == lab)/batch_size)*100).item())\n",
    "        if (idx+1) % 20 == 0: \n",
    "            print(f'[{epoch + 1}, {idx + 1:5d}] loss: {running_loss / 20:.3f}, accuracy: {np.mean(running_accuracy):3.2f}%')\n",
    "            running_loss = 0.0 # reset this value, else your loss will seem to be going up every time\n",
    "            running_accuracy = []\n",
    "    losses.append(running_loss_epoch / len(trainloader))\n",
    "    accuracies.append(np.mean(running_accuracy_epoch))\n",
    "    if np.mean(losses[-3:]) < 0.20:\n",
    "        print('Early stop')\n",
    "        break"
   ]
  },
  {
   "cell_type": "code",
   "execution_count": 11,
   "metadata": {
    "id": "R5KbyUxVvyuj"
   },
   "outputs": [
    {
     "data": {
      "image/png": "[encoded data removed]",
      "text/plain": [
       "<Figure size 432x288 with 1 Axes>"
      ]
     },
     "metadata": {
      "needs_background": "light"
     },
     "output_type": "display_data"
    }
   ],
   "source": [
    "# Plot losses\n",
    "plt.plot(range(1,np.shape(losses)[0]+1),losses)\n",
    "plt.xlabel('epoch')\n",
    "plt.ylabel('avg. loss')\n",
    "plt.title('Loss')\n",
    "plt.savefig(path+'/loss'+save_lab+'.png')"
   ]
  },
  {
   "cell_type": "code",
   "execution_count": 12,
   "metadata": {},
   "outputs": [
    {
     "data": {
      "image/png": "[encoded data removed]",
      "text/plain": [
       "<Figure size 432x288 with 1 Axes>"
      ]
     },
     "metadata": {
      "needs_background": "light"
     },
     "output_type": "display_data"
    }
   ],
   "source": [
    "# Plot accuracies\n",
    "plt.plot(range(1,np.shape(accuracies)[0]+1),accuracies)\n",
    "plt.xlabel('epoch')\n",
    "plt.ylabel('avg. accuracy (%)')\n",
    "plt.title('Accuracy')\n",
    "plt.savefig(path+'/accuracy'+save_lab+'.png')"
   ]
  },
  {
   "cell_type": "code",
   "execution_count": 13,
   "metadata": {
    "id": "p_2GS2rWNydD"
   },
   "outputs": [],
   "source": [
    "# Save the model\n",
    "PATH = path+'/covid_xray_classifier'+save_lab+'.pth'\n",
    "torch.save(model.state_dict(), PATH)"
   ]
  },
  {
   "cell_type": "markdown",
   "metadata": {
    "id": "xBzWKAlMN_eH"
   },
   "source": [
    "**Running the model on the test set**"
   ]
  },
  {
   "cell_type": "code",
   "execution_count": 14,
   "metadata": {
    "colab": {
     "base_uri": "https://localhost:8080/"
    },
    "id": "Fs9wNuINN6fD",
    "outputId": "966ef2e5-2afe-4d54-8cc4-7ce79ea198aa"
   },
   "outputs": [],
   "source": [
    "# # Load model\n",
    "# model.load_state_dict(torch.load(PATH))"
   ]
  },
  {
   "cell_type": "code",
   "execution_count": 15,
   "metadata": {
    "id": "8kO8KSdYOdDI"
   },
   "outputs": [
    {
     "name": "stdout",
     "output_type": "stream",
     "text": [
      "Accuracy of the network on the 150 test images: 70%\n"
     ]
    }
   ],
   "source": [
    "correct = 0\n",
    "total = 0\n",
    "\n",
    "lab_pred = []\n",
    "lab_true = []\n",
    "\n",
    "with torch.no_grad():\n",
    "    # iterate over test data\n",
    "    for data in testloader:\n",
    "        img, lab = data\n",
    "        img = img.to(device)\n",
    "        lab = lab.to(device)\n",
    "        # calculate outputs by running images through the network\n",
    "        out = model(img)\n",
    "        # the class with the highest energy is what we choose as prediction\n",
    "        pred = torch.argmax(out.data, 1)\n",
    "        total += lab.size(0)\n",
    "        correct += (pred == lab).sum().item()\n",
    "\n",
    "        lab_pred.extend(pred.tolist()) # Save predictions\n",
    "        lab_true.extend(lab.tolist()) # Save true labels\n",
    "\n",
    "print(f'Accuracy of the network on the {total} test images: {100 * correct // total}%')"
   ]
  },
  {
   "cell_type": "markdown",
   "metadata": {
    "id": "upvg0CudUT8K"
   },
   "source": [
    "**Generate Confusion Matrix**"
   ]
  },
  {
   "cell_type": "code",
   "execution_count": 16,
   "metadata": {
    "id": "Qf6BqJxmS3Nq"
   },
   "outputs": [
    {
     "data": {
      "image/png": "[encoded data removed]",
      "text/plain": [
       "<Figure size 504x360 with 2 Axes>"
      ]
     },
     "metadata": {
      "needs_background": "light"
     },
     "output_type": "display_data"
    }
   ],
   "source": [
    "# Classes\n",
    "classes = ('High Brixia Score','Low Brixia Score')\n",
    "\n",
    "# Build confusion matrix\n",
    "cf_matrix = confusion_matrix(lab_true, lab_pred)\n",
    "df_cm = pd.DataFrame(cf_matrix/np.sum(cf_matrix) *10, index = [i for i in classes],\n",
    "                     columns = [i for i in classes])\n",
    "plt.figure(figsize = (7,5))\n",
    "sn.heatmap(df_cm, annot=True)\n",
    "plt.savefig(path+'/confusion_matrix'+save_lab+'.png')"
   ]
  }
 ],
 "metadata": {
  "accelerator": "GPU",
  "colab": {
   "name": "COMP562_final_project_to_cluster.ipynb",
   "provenance": []
  },
  "kernelspec": {
   "display_name": "Python 3 (ipykernel)",
   "language": "python",
   "name": "python3"
  },
  "language_info": {
   "codemirror_mode": {
    "name": "ipython",
    "version": 3
   },
   "file_extension": ".py",
   "mimetype": "text/x-python",
   "name": "python",
   "nbconvert_exporter": "python",
   "pygments_lexer": "ipython3",
   "version": "3.9.5"
  }
 },
 "nbformat": 4,
 "nbformat_minor": 4
}
